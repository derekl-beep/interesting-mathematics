{
 "cells": [
  {
   "cell_type": "markdown",
   "metadata": {},
   "source": [
    "Given $n$ i.i.d. points sampled according to $f(r)$ inside a circle with radius $R$, the expected density, denoted by $\\rho(r)$ is given as \n",
    "\n",
    "$$\n",
    "\\rho(r) = \\frac{n \\int_{0}^{r}{f(x)}dx}{\\pi r^2}, \\forall r \\in (0, R]\n",
    "$$\n",
    ", where $\\int_{0}^{r}{f(x)}dx = F(r) = P(r \\leq R)$.\n",
    "\n",
    "To sample points distributing evenly inside the circle, this requires $\\rho(r) = \\frac{n}{\\pi R^2}, \\forall r \\in (0, R]$. Hence, we have\n",
    "\n",
    "$$\n",
    "\\begin{align}\n",
    "\\frac{n \\int_{0}^{r}{f(x)}dx}{\\pi r^2} &= \\frac{n}{\\pi R^2} \\\\\n",
    "\\int_{0}^{r}{f(x)}dx &= \\frac{r^2}{R^2} \\\\\n",
    "\\frac{d}{dr} \\int_{0}^{r}{f(x)}dx &= \\frac{d}{dr} \\frac{r^2}{R^2} \\\\\n",
    "f(r) &= \\frac{2r}{R^2}\n",
    "\\end{align}\n",
    "$$\n",
    "\n",
    "Thus, the probabilty density function of $r$ is \n",
    "$$\n",
    "f(r) =    \\begin{cases}\n",
    "      \\frac{2r}{R^2} & \\forall r \\in (0, R]\\\\\n",
    "      0 & \\text{otherwise}\n",
    "    \\end{cases}  \n",
    "$$, and the cumulative density function is \n",
    "$$\n",
    "F(r) =    \\begin{cases}\n",
    "    0 & r \\leq 0 \\\\\n",
    "    \\frac{r^2}{R^2} & r \\in (0, R]\\\\\n",
    "    1 &  r > R\n",
    "    \\end{cases}  \n",
    "$$"
   ]
  },
  {
   "cell_type": "markdown",
   "metadata": {},
   "source": [
    "Sample points X ~ f(r) with the inverse of its cumulative density function and Y ~ Uni(0,1)\n",
    "$$\n",
    "F^{-1}(r) = \\sqrt{r R^2}, \\forall r \\in (0,1]\n",
    "$$"
   ]
  },
  {
   "cell_type": "code",
   "execution_count": 77,
   "metadata": {},
   "outputs": [],
   "source": [
    "import numpy as np\n",
    "import math\n",
    "import matplotlib.pyplot as plt"
   ]
  },
  {
   "cell_type": "code",
   "execution_count": 78,
   "metadata": {},
   "outputs": [
    {
     "data": {
      "text/plain": [
       "(array([ 87.,  91.,  92.,  94.,  93.,  91.,  85.,  93.,  91., 103.,  80.]),\n",
       " array([0.00112273, 0.09190225, 0.18268177, 0.27346129, 0.36424082,\n",
       "        0.45502034, 0.54579986, 0.63657939, 0.72735891, 0.81813843,\n",
       "        0.90891796, 0.99969748]),\n",
       " <BarContainer object of 11 artists>)"
      ]
     },
     "execution_count": 78,
     "metadata": {},
     "output_type": "execute_result"
    },
    {
     "data": {
      "image/png": "[encoded data removed]",
      "text/plain": [
       "<Figure size 432x288 with 1 Axes>"
      ]
     },
     "metadata": {
      "needs_background": "light"
     },
     "output_type": "display_data"
    }
   ],
   "source": [
    "x_uni = np.random.rand(1000)\n",
    "plt.hist(x_uni, bins='auto') "
   ]
  },
  {
   "cell_type": "code",
   "execution_count": 79,
   "metadata": {},
   "outputs": [
    {
     "data": {
      "text/plain": [
       "(array([ 10.,  21.,  30.,  47.,  53.,  71.,  76.,  87., 100., 105., 124.,\n",
       "        129., 147.]),\n",
       " array([0.03350709, 0.10784106, 0.18217503, 0.25650901, 0.33084298,\n",
       "        0.40517695, 0.47951092, 0.55384489, 0.62817887, 0.70251284,\n",
       "        0.77684681, 0.85118078, 0.92551476, 0.99984873]),\n",
       " <BarContainer object of 13 artists>)"
      ]
     },
     "execution_count": 79,
     "metadata": {},
     "output_type": "execute_result"
    },
    {
     "data": {
      "image/png": "[encoded data removed]",
      "text/plain": [
       "<Figure size 432x288 with 1 Axes>"
      ]
     },
     "metadata": {
      "needs_background": "light"
     },
     "output_type": "display_data"
    }
   ],
   "source": [
    "r = np.sqrt(x_uni) # assume R = 1 for simplicity\n",
    "plt.hist(r, bins='auto') "
   ]
  },
  {
   "cell_type": "code",
   "execution_count": 80,
   "metadata": {},
   "outputs": [],
   "source": [
    "# calculate the empricial density based on the sample at different radius\n",
    "n_bin = 100\n",
    "density = [None] * n_bin\n",
    "for i in range(n_bin):\n",
    "    density[i] = sum(r < (i+1)/n_bin ) / (math.pi * ((i+1)/n_bin)**2)"
   ]
  },
  {
   "cell_type": "code",
   "execution_count": 81,
   "metadata": {},
   "outputs": [
    {
     "data": {
      "text/plain": [
       "<matplotlib.collections.PathCollection at 0x7f8b79f861f0>"
      ]
     },
     "execution_count": 81,
     "metadata": {},
     "output_type": "execute_result"
    },
    {
     "data": {
      "image/png": "[encoded data removed]",
      "text/plain": [
       "<Figure size 432x288 with 1 Axes>"
      ]
     },
     "metadata": {
      "needs_background": "light"
     },
     "output_type": "display_data"
    }
   ],
   "source": [
    "x = np.array(range(n_bin)) / n_bin\n",
    "plt.scatter(x, density)"
   ]
  },
  {
   "cell_type": "markdown",
   "metadata": {},
   "source": [
    "Theorectical density is \n",
    "$$\n",
    "\\rho = \\frac{n}{\\pi R^2} = \\frac{1000}{\\pi} = 318.3098861837907\n",
    "$$"
   ]
  },
  {
   "cell_type": "code",
   "execution_count": null,
   "metadata": {},
   "outputs": [],
   "source": []
  },
  {
   "cell_type": "code",
   "execution_count": null,
   "metadata": {},
   "outputs": [],
   "source": []
  }
 ],
 "metadata": {
  "kernelspec": {
   "display_name": "Python 3",
   "language": "python",
   "name": "python3"
  },
  "language_info": {
   "codemirror_mode": {
    "name": "ipython",
    "version": 3
   },
   "file_extension": ".py",
   "mimetype": "text/x-python",
   "name": "python",
   "nbconvert_exporter": "python",
   "pygments_lexer": "ipython3",
   "version": "3.8.5"
  }
 },
 "nbformat": 4,
 "nbformat_minor": 4
}
